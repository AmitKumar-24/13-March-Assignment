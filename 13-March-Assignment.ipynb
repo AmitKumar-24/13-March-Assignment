{
 "cells": [
  {
   "cell_type": "markdown",
   "id": "fe0a7632-9157-420d-9c4a-7a1301ac1c0e",
   "metadata": {},
   "source": [
    "## Q1. Explain the assumptions required to use ANOVA and provide examples of violations that could impact the validity of the results.\n",
    "\n",
    "* ANOVA (Analysis of Variance) is a statistical method used to test the differences between two or more means.\n",
    "* It assumes that the data meet certain assumptions to produce valid results.\n",
    "* The three main assumptions of ANOVA are:\n",
    "\n",
    "#### Independence\n",
    "\n",
    "* The observations within each group are independent of each other.\n",
    "* The value of one observation does not affect the value of another observation.\n",
    "\n",
    "#### Normality\n",
    "* The data within each group should follow a normal distribution.\n",
    "* The data should be symmetric and bell-shaped.\n",
    "\n",
    "#### Homogeneity of Variance\n",
    "* The variances of each group should be equal.\n",
    "* The spread of data within each group should be similar.\n",
    "\n",
    "#### Absence of Outlier\n",
    "* The outlying observations/data need to be removed from the dataset.\n",
    "\n",
    "\n",
    "#### Violations of these assumptions can lead to invalid results.\n",
    "* For example:\n",
    "* Violation of Independence\n",
    "* If the observations within each group are not independent, the results of ANOVA may be biased.\n",
    "* For example, if measurements are taken on the same subject multiple times, the observations within that subject are not independent.\n",
    "#### Violation of Normality\n",
    "* If the data within each group do not follow a normal distribution, the results of ANOVA may be invalid.\n",
    "* For example, if the data are skewed or have outliers, they may not follow a normal distribution.\n",
    "#### Violation of Homogeneity of Variance\n",
    "* If the variances of the groups are not equal, the results of ANOVA may be invalid.\n",
    "* For example, if the variance of one group is much larger than the variance of another group, it may be difficult to detect significant differences between the groups.\n",
    "\n",
    "To check the assumptions of ANOVA, various diagnostic plots can be used, such as histograms, box plots, and Q-Q plots. If the assumptions are violated, alternative statistical methods may need to be used, such as non-parametric tests or transformations of the data."
   ]
  },
  {
   "cell_type": "markdown",
   "id": "c28b85bf-5f95-4f21-9c21-8a45351ebd0f",
   "metadata": {},
   "source": [
    "## Q2. What are the three types of ANOVA, and in what situations would each be used?\n",
    "\n",
    "* ANOVA (Analysis of Variance) is a statistical technique used to compare the means of two or more groups.\n",
    "* There are three types of ANOVA:\n",
    "1. One-way ANOVA : This is used when we have one independent variable (also called a factor) with three or more levels and one dependent variable. For example, if we want to compare the mean scores of three or more groups on a test, we would use a one-way ANOVA.\n",
    "\n",
    "2. Two-way ANOVA : This is used when we have two independent variables and one dependent variable. For example, if we want to examine the effect of two different types of treatment and two different levels of education on a particular outcome, we would use a two-way ANOVA.\n",
    "\n",
    "3. Three-way ANOVA : This is used when we have three independent variables and one dependent variable. For example, if we want to examine the effect of gender, age, and income on a particular outcome, we would use a three-way ANOVA.\n",
    "* ANOVA is used when we want to compare the means of two or more groups and determine if there are significant differences between them.\n",
    "* The choice of which type of ANOVA to use depends on the number of independent variables we have and the nature of the research question we are trying to answer."
   ]
  },
  {
   "cell_type": "markdown",
   "id": "561bdb0f-a054-4f96-9ed4-62f381340b92",
   "metadata": {},
   "source": [
    "## Q3. What is the partitioning of variance in ANOVA, and why is it important to understand this concept?\n",
    "\n",
    "* The partitioning of variance in ANOVA (Analysis of Variance) refers to the decomposition of the total variance of a dataset into different sources of variation. ANOVA is a statistical method used to compare the means of three or more groups and determine if there are significant differences between them. Understanding the partitioning of variance is essential to interpret the results of ANOVA correctly.\n",
    "\n",
    "* The total variance in ANOVA can be divided into two parts\n",
    " * The variance between groups\n",
    " * The variance between groups measures the differences in means between each group.\n",
    "* The variance within groups\n",
    " * The variance within groups measures the variation within each group.\n",
    "* The partitioning of variance is important because it allows researchers to determine the proportion of the total variation that can be attributed to differences between groups versus differences within groups. This information is used to calculate the F-statistic, which is used to test the hypothesis that the means of the groups are equal.\n",
    "* If the variance between groups is large relative to the variance within groups, then the F-statistic will be large, indicating that there are significant differences between the groups.\n",
    "* If the variance within groups is large relative to the variance between groups, then the F-statistic will be small, indicating that there are no significant differences between the groups.\n",
    "\n",
    "* Understanding the partitioning of variance in ANOVA is crucial because it provides information about the sources of variation in the data and helps researchers make informed decisions about whether there are significant differences between groups."
   ]
  },
  {
   "cell_type": "markdown",
   "id": "3e9f9178-92cc-4d6c-a8fc-3b013376c27b",
   "metadata": {},
   "source": [
    "## Q4. How would we calculate the total sum of squares (SST), explained sum of squares (SSE), and residual sum of squares (SSR) in a one-way ANOVA using Python?\n",
    "\n",
    "To calculate the total sum of squares (SST), explained sum of squares (SSE), and residual sum of squares (SSR) in a one-way ANOVA using Python, we can use the statsmodels library, which provides a convenient interface to perform ANOVA analysis."
   ]
  },
  {
   "cell_type": "code",
   "execution_count": null,
   "id": "8de659ee-1e70-49bf-b215-8bbf009f987c",
   "metadata": {},
   "outputs": [],
   "source": [
    "import pandas as pd\n",
    "import statsmodels.api as sm\n",
    "from statsmodels.formula.api import ols\n",
    "\n",
    "# load data\n",
    "data = pd.read_csv('data.csv')\n",
    "\n",
    "# fit one-way ANOVA model\n",
    "model = ols('response_variable ~ group_variable', data=data).fit()\n",
    "\n",
    "# calculate SST\n",
    "SST = sm.stats.anova_lm(model, typ=1)['sum_sq'][0]\n",
    "\n",
    "# calculate SSE\n",
    "SSE = sm.stats.anova_lm(model, typ=1)['sum_sq'][1]\n",
    "\n",
    "# calculate SSR\n",
    "SSR = SST - SSE\n",
    "\n",
    "# print the results\n",
    "print('SST:', SST)\n",
    "print('SSE:', SSE)\n",
    "print('SSR:', SSR)"
   ]
  },
  {
   "cell_type": "markdown",
   "id": "f2772a5c-442e-4a12-94fb-d822a0b801ed",
   "metadata": {},
   "source": [
    "* In this code, data.csv is the input dataset containing the response variable and the group variable. We first fit a one-way ANOVA model using the ols function from statsmodels. Then, we calculate the SST, SSE, and SSR using the sm.stats.anova_lm function, which performs ANOVA analysis and returns a table containing the sum of squares for each term in the model.\n",
    "* The typ=1 argument in the anova_lm function specifies the type of sum of squares to use. typ=1 calculates the sums of squares using the method of least squares, which is the default method in ANOVA. Finally, we subtract the SSE from the SST to obtain the SSR.\n",
    "* The input data must be in the correct format, with the response variable in one column and the group variable in another column.\n",
    "* The code assumes that there are no missing values in the data."
   ]
  },
  {
   "cell_type": "markdown",
   "id": "c6fb8f27-49e0-4ab4-9af2-8d78ded08ae0",
   "metadata": {},
   "source": [
    "## Q5. In a two-way ANOVA, how would we calculate the main effects and interaction effects using Python?\n",
    " \n",
    " To calculate the main effects and interaction effects in a two-way ANOVA using Python, we can use the statsmodels library, which provides a convenient interface to perform ANOVA analysis."
   ]
  },
  {
   "cell_type": "code",
   "execution_count": null,
   "id": "7c99d26e-0aac-4738-ad9f-444eb3b4d1e5",
   "metadata": {},
   "outputs": [],
   "source": [
    "import pandas as pd\n",
    "import statsmodels.api as sm\n",
    "from statsmodels.formula.api import ols\n",
    "\n",
    "# load data\n",
    "data = pd.read_csv('data.csv')\n",
    "\n",
    "# fit two-way ANOVA model\n",
    "model = ols('response_variable ~ group_variable_1 + group_variable_2 + group_variable_1:group_variable_2', data=data).fit()\n",
    "\n",
    "# calculate main effects\n",
    "main_effect_1 = sm.stats.anova_lm(model, typ=2)['sum_sq']['group_variable_1']\n",
    "main_effect_2 = sm.stats.anova_lm(model, typ=2)['sum_sq']['group_variable_2']\n",
    "\n",
    "# calculate interaction effect\n",
    "interaction_effect = sm.stats.anova_lm(model, typ=2)['sum_sq']['group_variable_1:group_variable_2']\n",
    "\n",
    "# print the results\n",
    "print('Main effect 1:', main_effect_1)\n",
    "print('Main effect 2:', main_effect_2)\n",
    "print('Interaction effect:', interaction_effect)"
   ]
  },
  {
   "cell_type": "markdown",
   "id": "cef0ac9d-ffc9-46f1-8fcb-3099bf04119d",
   "metadata": {},
   "source": [
    "* In this code, data.csv is the input dataset containing the response variable, group_variable_1, and group_variable_2. We fit a two-way ANOVA model using the ols function from statsmodels, which includes the main effects of group_variable_1 and group_variable_2, as well as their interaction effect.\n",
    "* To calculate the main effects, we use the sm.stats.anova_lm function with typ=2, which specifies the type of sum of squares to use. typ=2 calculates the sums of squares using the method of expected values. We extract the sum of squares for each main effect from the ANOVA table and assign them to main_effect_1 and main_effect_2.\n",
    "* To calculate the interaction effect, we extract the sum of squares for the interaction term from the ANOVA table and assign it to interaction_effect.\n",
    "* The input data must be in the correct format, with the response variable in one column and the group variable in another column.\n",
    "* The code assumes that there are no missing values in the data."
   ]
  },
  {
   "cell_type": "markdown",
   "id": "edec455e-88cb-4760-ae3c-cd89a5e16965",
   "metadata": {},
   "source": [
    "## Q6. Suppose we conducted a one-way ANOVA and obtained an F-statistic of 5.23 and a p-value of 0.02. What can we conclude about the differences between the groups, and how would we interpret these results?\n",
    "\n",
    "* If we conducted a one-way ANOVA and obtained an F-statistic of 5.23 and a p-value of 0.02, we can conclude that there is a statistically significant difference between the groups. Specifically, we can conclude that at least one of the groups differs significantly from the others in terms of the mean value of the response variable.\n",
    "* The F-statistic of 5.23 indicates the ratio of the variation between groups to the variation within groups. The larger the F-statistic, the more likely it is that there is a significant difference between the groups. The p-value of 0.02 indicates the probability of obtaining such an extreme F-statistic by chance alone, assuming that there is no true difference between the groups. Since the p-value is less than the typical significance level of 0.05, we can reject the null hypothesis that there is no difference between the groups and conclude that there is a significant difference between them.\n",
    "* To interpret the results, we can perform a post-hoc analysis, such as a Tukey HSD test, to identify which groups differ significantly from each other. Additionally, we can calculate effect sizes, such as eta-squared or Cohen's d, to estimate the magnitude of the differences between the groups.\n",
    "* Obtaining a significant F-statistic and p-value in a one-way ANOVA indicates that there is a significant difference between the groups in terms of the mean value of the response variable.\n",
    "* Further analyses can be performed to identify which groups differ significantly and to estimate the magnitude of the differences."
   ]
  },
  {
   "cell_type": "markdown",
   "id": "4b6763d5-b7ba-47b2-91c3-2d5b4da0f59c",
   "metadata": {},
   "source": [
    "## Q7. In a repeated measures ANOVA, how would we handle missing data, and what are the potential consequences of using different methods to handle missing data?\n",
    "\n",
    "* Handling missing data in a repeated measures ANOVA is important because missing data can introduce bias and reduce the power of the analysis. There are different methods to handle missing data in a repeated measures ANOVA, and the choice of method can affect the results and conclusions of the analysis.\n",
    "\n",
    "1. 1st Approach : Use Listwise Deletion \n",
    "* Any participant with missing data on any of the variables is excluded from the analysis.\n",
    "* This approach is simple to implement, but it can reduce the sample size and potentially introduce bias if the missing data is related to the outcome variable or the other variables in the analysis.\n",
    "\n",
    "2. 2nd Approach : Use Pairwise Deletion\n",
    "* The available data for each participant is used for the analysis, even if some variables are missing for some participants.\n",
    "* This approach retains more participants in the analysis but can introduce bias if the missing data is not missing at random.\n",
    "\n",
    "3. 3rd Approach : Use Imputation Methods to estimate the missing values.\n",
    "* Imputation methods can include mean imputation, regression imputation, and multiple imputation. Mean imputation involves replacing missing values with the mean of the available values, while regression imputation involves predicting the missing values based on the relationship with other variables in the analysis.\n",
    "* Multiple imputation involves creating multiple imputed datasets and analyzing each dataset separately, then combining the results.\n",
    "\n",
    "* The choice of method to handle missing data should depend on the characteristics of the missing data and the assumptions of the analysis.\n",
    "* Imputation methods can be preferred if the missing data is missing at random and the assumptions of the analysis are met.\n",
    "* Imputation methods can also introduce bias if the assumptions are not met or if the imputation model is misspecified."
   ]
  },
  {
   "cell_type": "markdown",
   "id": "8f0ccea7-6675-4593-b6e1-122b984801b7",
   "metadata": {},
   "source": [
    "## Q8. What are some common post-hoc tests used after ANOVA, and when would we use each one? Provide an example of a situation where a post-hoc test might be necessary.\n",
    "\n",
    "* Post-hoc tests are used after an ANOVA to determine which groups differ significantly from each other when the overall ANOVA result is significant.\n",
    "* Some common post-hoc tests include:\n",
    "* Tukey's Honestly Significant Difference (HSD) test:  This test compares all possible pairs of means to determine which pairs differ significantly from each other. It is useful when there are multiple groups and we want to identify which groups are significantly different from each other.\n",
    "\n",
    "* Bonferroni correction : This test adjusts the p-value for multiple comparisons to control for the family-wise error rate. It is useful when we are comparing multiple groups, but we want to control the overall probability of making a type I error.\n",
    "\n",
    "* Scheffe's test : This test is a conservative post-hoc test that can be used when the sample sizes are unequal or the variances are not equal. It is useful when we want to compare multiple groups, but we are not confident in the assumptions of the ANOVA.\n",
    "\n",
    "* Dunn's test : This test is a non-parametric post-hoc test that can be used when the assumptions of ANOVA are not met, such as when the data are not normally distributed. It is useful when we want to compare multiple groups, but we cannot assume normality.\n",
    "\n",
    "* A situation where a post-hoc test might be necessary is when we have conducted an ANOVA and found a significant result, indicating that at least one group differs significantly from the others.\n",
    "* However, the ANOVA does not tell us which specific groups differ significantly from each other.\n",
    "* In this case, we would use a post-hoc test to determine which groups differ significantly from each other.\n",
    "* For example - If we conducted an ANOVA on the effect of different fertilizers on crop yields and found a significant result, we would use a post-hoc test, such as Tukey's HSD, to determine which fertilizers result in significantly different crop yields."
   ]
  },
  {
   "cell_type": "markdown",
   "id": "f18ed5b4-5ebd-4914-b72d-f0fe672a05cf",
   "metadata": {},
   "source": [
    "## Q9. A researcher wants to compare the mean weight loss of three diets: A, B, and C. They collect data from 50 participants who were randomly assigned to one of the diets. Conduct a one-way ANOVA using Python to determine if there are any significant differences between the mean weight loss of the three diets. Report the F-statistic and p-value, and interpret the results.\n",
    "\n",
    "* To conduct a one-way ANOVA using Python to compare the mean weight loss of three diets A, B, and C, we can use the f_oneway() function from the scipy.stats module.\n",
    "* Below is an example code:"
   ]
  },
  {
   "cell_type": "code",
   "execution_count": 2,
   "id": "9117f0cd-37a5-4025-beb8-2528f7b872d2",
   "metadata": {},
   "outputs": [
    {
     "name": "stdout",
     "output_type": "stream",
     "text": [
      "F-statistic:  68.0129472265407\n",
      "p-value:  1.2263106300978192e-21\n"
     ]
    }
   ],
   "source": [
    "import numpy as np\n",
    "from scipy.stats import f_oneway\n",
    "\n",
    "# Generate random weight loss data for three diets\n",
    "np.random.seed(1)\n",
    "diet_a = np.random.normal(5, 1, 50)\n",
    "diet_b = np.random.normal(6, 1, 50)\n",
    "diet_c = np.random.normal(4, 1, 50)\n",
    "\n",
    "# Conduct one-way ANOVA\n",
    "f_stat, p_val = f_oneway(diet_a, diet_b, diet_c)\n",
    "\n",
    "# Print results\n",
    "print(\"F-statistic: \", f_stat)\n",
    "print(\"p-value: \", p_val)"
   ]
  },
  {
   "cell_type": "markdown",
   "id": "6f2f67b9-3247-4e78-97b2-a81d43a3a3c1",
   "metadata": {},
   "source": [
    "* In this example, we generated random weight loss data for three diets A, B, and C, with sample sizes of 50 each.\n",
    "* We then conducted a one-way ANOVA using the f_oneway() function, which takes the weight loss data for each diet as input.\n",
    "* The function returns the F-statistic and p-value.\n",
    "* The F-statistic is 68.01 and the p-value is 1.23e-21, which is less than the commonly used threshold of 0.05.\n",
    "* This indicates that there is a significant difference between the mean weight loss of the three diets.\n",
    "* We can reject the null hypothesis that there is no difference between the diets and conclude that at least one of the diets has a different mean weight loss from the others.\n",
    "* However, we would need to conduct post-hoc tests, such as Tukey's HSD, to determine which specific diets differ significantly from each other."
   ]
  },
  {
   "cell_type": "markdown",
   "id": "1795a8a6-808a-4a15-9461-26dd5e7db346",
   "metadata": {},
   "source": [
    "## Q10. A company wants to know if there are any significant differences in the average time it takes to complete a task using three different software programs: Program A, Program B, and Program C. They randomly assign 30 employees to one of the programs and record the time it takes each employee to complete the task. Conduct a two-way ANOVA using Python to determine if there are any main effects or interaction effects between the software programs and employee experience level (novice vs. experienced). Report the F-statistics and p-values, and interpret the results.\n",
    "\n",
    "* To conduct a two-way ANOVA using Python to compare the average time it takes to complete a task using three different software programs and considering employee experience level as a factor, we can use the statsmodels package.\n",
    "* Below is an example code:"
   ]
  },
  {
   "cell_type": "code",
   "execution_count": 3,
   "id": "e250ad4b-09a8-44e9-b030-76f49a1d3d11",
   "metadata": {},
   "outputs": [
    {
     "name": "stdout",
     "output_type": "stream",
     "text": [
      "                              sum_sq    df         F    PR(>F)\n",
      "C(program)                  1.181428   2.0  0.171062  0.843224\n",
      "C(experience)               1.118041   1.0  0.323769  0.571711\n",
      "C(program):C(experience)   17.222352   2.0  2.493673  0.092075\n",
      "Residual                  186.473318  54.0       NaN       NaN\n"
     ]
    }
   ],
   "source": [
    "import pandas as pd\n",
    "import statsmodels.api as sm\n",
    "from statsmodels.formula.api import ols\n",
    "\n",
    "# Generate random time data for three programs and two experience levels\n",
    "np.random.seed(1)\n",
    "data = {'program': ['A', 'B', 'C'] * 20,\n",
    "        'experience': ['novice']*30 + ['experienced']*30,\n",
    "        'time': np.random.normal(10, 2, 60)}\n",
    "df = pd.DataFrame(data)\n",
    "\n",
    "# Conduct two-way ANOVA\n",
    "model = ols('time ~ C(program) + C(experience) + C(program):C(experience)', data=df).fit()\n",
    "table = sm.stats.anova_lm(model, typ=2)\n",
    "\n",
    "# Print results\n",
    "print(table)"
   ]
  },
  {
   "cell_type": "markdown",
   "id": "50d4b844-3a8d-4533-a1be-3e608a8145fc",
   "metadata": {},
   "source": [
    "* In the above example, we generated random time data for three software programs and two experience levels, with 30 employees randomly assigned to each program.\n",
    "* We then conducted a two-way ANOVA using the ols() function from statsmodels.formula.api and the anova_lm() function from statsmodels.api.\n",
    "* The ols() function specifies a linear model formula that includes the main effects of software program and experience level, as well as their interaction effect.\n",
    "* The anova_lm() function calculates the ANOVA table for the linear model and returns the F-statistics and p-values.\n",
    "* The ANOVA table shows the sum of squares (SS), degrees of freedom (df), F-statistics, and p-values for the main effects of software program and experience level, as well as their interaction effect.\n",
    "* The main effect of software program has an F-statistic of 0.17 and a p-value of 0.84, which is not significant at the commonly used threshold of 0.05.\n",
    "* This indicates that there is no significant difference in the average task completion time between the three programs.\n",
    "* The main effect of experience level has an F-statistic of 0.32 and a p-value of 0.57, which is not significant.\n",
    "* This indicates that there is no significant difference in the average task completion time between novice and experienced employees.\n",
    "* The interaction effect between software program and experience level has an F-statistic of 2.49 and a p-value of 0.09, which is significant.\n",
    "* This indicates that there is a significant interaction effect between the two factors.\n",
    "* The results suggest that there is a significant main effect of experience level on task completion time, but no significant main effect of software program or interaction effect between software program and experience level."
   ]
  },
  {
   "cell_type": "markdown",
   "id": "bc58cdf2-3b98-45d2-af17-e7dd352e8d1f",
   "metadata": {},
   "source": [
    "## Q11. An educational researcher is interested in whether a new teaching method improves student test scores. They randomly assign 100 students to either the control group (traditional teaching method) or the experimental group (new teaching method) and administer a test at the end of the semester. Conduct a two-sample t-test using Python to determine if there are any significant differences in test scores between the two groups. If the results are significant, follow up with a post-hoc test to determine which group(s) differ significantly from each other.\n",
    "\n"
   ]
  },
  {
   "cell_type": "code",
   "execution_count": 4,
   "id": "c069691f-36a5-4cb9-bd17-6b9104b631c3",
   "metadata": {},
   "outputs": [
    {
     "name": "stdout",
     "output_type": "stream",
     "text": [
      "t-statistic: 0.3708582163292531\n",
      "p-value: 0.7123748921879114\n",
      "   Multiple Comparison of Means - Tukey HSD, FWER=0.05    \n",
      "==========================================================\n",
      " group1    group2    meandiff p-adj   lower  upper  reject\n",
      "----------------------------------------------------------\n",
      "control experimental     -0.8 0.7124 -5.1373 3.5373  False\n",
      "----------------------------------------------------------\n"
     ]
    }
   ],
   "source": [
    "# a two-sample t-test and post-hoc\n",
    "import pandas as pd\n",
    "from scipy import stats\n",
    "from statsmodels.stats.multicomp import pairwise_tukeyhsd\n",
    "\n",
    "# Create a data frame with test scores and group assignments\n",
    "data = pd.DataFrame({\n",
    "    'test_scores': [85, 70, 75, 80, 90, 65, 70, 75, 95, 80, \n",
    "                    70, 75, 80, 85, 90, 95, 80, 75, 85, 70, \n",
    "                    85, 75, 80, 90, 70, 75, 85, 80, 90, 75,\n",
    "                    70, 80, 75, 85, 90, 80, 75, 70, 85, 90,\n",
    "                    75, 80, 85, 90, 75, 70, 80, 85, 90, 75],\n",
    "    'group': ['experimental']*25 + ['control']*25\n",
    "})\n",
    "\n",
    "# Compute the t-test\n",
    "control = data.loc[data['group'] == 'control', 'test_scores']\n",
    "experimental = data.loc[data['group'] == 'experimental', 'test_scores']\n",
    "t_stat, p_val = stats.ttest_ind(control, experimental)\n",
    "print(\"t-statistic:\", t_stat)\n",
    "print(\"p-value:\", p_val)\n",
    "\n",
    "# Compute the post-hoc test\n",
    "tukey_result = pairwise_tukeyhsd(data['test_scores'], data['group'])\n",
    "print(tukey_result)"
   ]
  },
  {
   "cell_type": "markdown",
   "id": "7a150fcd-4b47-432f-b0b0-3deb724e7837",
   "metadata": {},
   "source": [
    "* The t-test result shows a significant difference in test scores between the control and experimental groups (t(98) = -0.37, p = 0.71). The positive t-statistic indicates that the control group had lower test scores on average than the experimental group.\n",
    "* The post-hoc test shows that the mean test score for the experimental group is significantly higher than the mean test score for the control group (mean difference = -0.8, p = 0.712)."
   ]
  },
  {
   "cell_type": "markdown",
   "id": "14a29bcf-7fd6-438a-a6ff-9754400fb1de",
   "metadata": {},
   "source": [
    "## Q12. A researcher wants to know if there are any significant differences in the average daily sales of three retail stores: Store A, Store B, and Store C. They randomly select 30 days and record the sales for each store on those days. Conduct a repeated measures ANOVA using Python to determine if there are any significant differences in sales between the three stores. If the results are significant, follow up with a post-hoc test to determine which store(s) differ significantly from each other.\n",
    "\n",
    "* Since this is a repeated measures ANOVA, we need to reshape the data so that each row represents a single observation, with columns for the subject ID, the store, and the sales on each of the 30 days.\n",
    "* We can then use the statsmodels library to conduct the repeated measures ANOVA and the pingouin library to perform a post-hoc test."
   ]
  },
  {
   "cell_type": "code",
   "execution_count": null,
   "id": "5864fed1-cb55-4b34-bcfc-56675b346206",
   "metadata": {},
   "outputs": [],
   "source": [
    "import pandas as pd\n",
    "import pingouin as pg\n",
    "import statsmodels.api as sm\n",
    "from statsmodels.stats.anova import AnovaRM\n",
    "\n",
    "# create a sample dataset\n",
    "data = pd.DataFrame({\n",
    "    'subject': ['s%d' % (i//30+1) for i in range(90)],\n",
    "    'store': ['A', 'B', 'C'] * 30,\n",
    "    'sales': np.random.randint(100, 1000, 90)\n",
    "})\n",
    "\n",
    "# reshape the data\n",
    "data_wide = data.pivot(index='subject', columns='store', values='sales')\n",
    "\n",
    "# create a model using AnovaRM\n",
    "model = AnovaRM(data_wide, 'sales', 'subject', within=['store'])\n",
    "results = model.fit()\n",
    "\n",
    "# print the ANOVA table\n",
    "print(results.anova_table)\n",
    "\n",
    "# perform post-hoc test using pairwise_tukey\n",
    "posthoc = pg.pairwise_tukey(data, dv='sales', between='store', subject='subject')\n",
    "print(posthoc)"
   ]
  },
  {
   "cell_type": "markdown",
   "id": "00184e38-c0c9-40ac-8a45-ef4b828f0882",
   "metadata": {},
   "source": [
    "* The above code will output the ANOVA table and the results of the post-hoc test. If the ANOVA is significant, the post-hoc test can be used to determine which store(s) have significantly different sales."
   ]
  },
  {
   "cell_type": "code",
   "execution_count": null,
   "id": "b60f2bae-4401-495b-858f-118687ebb590",
   "metadata": {},
   "outputs": [],
   "source": []
  }
 ],
 "metadata": {
  "kernelspec": {
   "display_name": "Python 3 (ipykernel)",
   "language": "python",
   "name": "python3"
  },
  "language_info": {
   "codemirror_mode": {
    "name": "ipython",
    "version": 3
   },
   "file_extension": ".py",
   "mimetype": "text/x-python",
   "name": "python",
   "nbconvert_exporter": "python",
   "pygments_lexer": "ipython3",
   "version": "3.10.8"
  }
 },
 "nbformat": 4,
 "nbformat_minor": 5
}
